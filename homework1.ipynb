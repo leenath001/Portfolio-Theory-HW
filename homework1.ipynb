{
 "cells": [
  {
   "cell_type": "markdown",
   "id": "ccbd9ffc",
   "metadata": {},
   "source": [
    "# Mean-Variance Optimization\n"
   ]
  },
  {
   "cell_type": "code",
   "execution_count": 2,
   "id": "dfe1765b",
   "metadata": {},
   "outputs": [],
   "source": [
    "#### IMPORTS AND DATA LOADING ####\n",
    "\n",
    "import pandas as pd\n",
    "import numpy as np\n",
    "import matplotlib.pyplot as plt\n",
    "import seaborn as sns\n",
    "\n",
    "multi_asset_data = pd.ExcelFile(\"multi_asset_etf_data.xlsx\")\n",
    "# multi_asset_data.sheet_names # Sheets are ['descriptions', 'prices', 'total returns', 'excess returns']\n",
    "prices = multi_asset_data.parse(\"prices\", index_col=0, parse_dates=True)\n",
    "excess_returns = multi_asset_data.parse(\n",
    "    \"excess returns\", index_col=0, parse_dates=True\n",
    ").drop(columns=[\"QAI\"])\n",
    "total_returns = multi_asset_data.parse(\n",
    "    \"total returns\", index_col=0, parse_dates=True\n",
    ").drop(columns=[\"QAI\"])"
   ]
  },
  {
   "cell_type": "markdown",
   "id": "303f3ee8",
   "metadata": {},
   "source": [
    "## 1. Summary Statistics\n"
   ]
  },
  {
   "cell_type": "code",
   "execution_count": 3,
   "id": "8aa67898",
   "metadata": {},
   "outputs": [
    {
     "data": {
      "text/html": [
       "<div>\n",
       "<style scoped>\n",
       "    .dataframe tbody tr th:only-of-type {\n",
       "        vertical-align: middle;\n",
       "    }\n",
       "\n",
       "    .dataframe tbody tr th {\n",
       "        vertical-align: top;\n",
       "    }\n",
       "\n",
       "    .dataframe thead th {\n",
       "        text-align: right;\n",
       "    }\n",
       "</style>\n",
       "<table border=\"1\" class=\"dataframe\">\n",
       "  <thead>\n",
       "    <tr style=\"text-align: right;\">\n",
       "      <th></th>\n",
       "      <th>Mean</th>\n",
       "      <th>Volatility</th>\n",
       "      <th>Sharpe Ratio</th>\n",
       "    </tr>\n",
       "  </thead>\n",
       "  <tbody>\n",
       "    <tr>\n",
       "      <th>SPY</th>\n",
       "      <td>0.1281</td>\n",
       "      <td>0.1428</td>\n",
       "      <td>0.8971</td>\n",
       "    </tr>\n",
       "    <tr>\n",
       "      <th>HYG</th>\n",
       "      <td>0.0414</td>\n",
       "      <td>0.0759</td>\n",
       "      <td>0.5449</td>\n",
       "    </tr>\n",
       "    <tr>\n",
       "      <th>IYR</th>\n",
       "      <td>0.0749</td>\n",
       "      <td>0.1687</td>\n",
       "      <td>0.4441</td>\n",
       "    </tr>\n",
       "    <tr>\n",
       "      <th>PSP</th>\n",
       "      <td>0.0926</td>\n",
       "      <td>0.2134</td>\n",
       "      <td>0.4338</td>\n",
       "    </tr>\n",
       "    <tr>\n",
       "      <th>EFA</th>\n",
       "      <td>0.0618</td>\n",
       "      <td>0.1509</td>\n",
       "      <td>0.4094</td>\n",
       "    </tr>\n",
       "    <tr>\n",
       "      <th>TIP</th>\n",
       "      <td>0.0205</td>\n",
       "      <td>0.0511</td>\n",
       "      <td>0.4011</td>\n",
       "    </tr>\n",
       "    <tr>\n",
       "      <th>IEF</th>\n",
       "      <td>0.0164</td>\n",
       "      <td>0.0634</td>\n",
       "      <td>0.2586</td>\n",
       "    </tr>\n",
       "    <tr>\n",
       "      <th>EEM</th>\n",
       "      <td>0.0293</td>\n",
       "      <td>0.1762</td>\n",
       "      <td>0.1665</td>\n",
       "    </tr>\n",
       "    <tr>\n",
       "      <th>DBC</th>\n",
       "      <td>-0.0053</td>\n",
       "      <td>0.1666</td>\n",
       "      <td>-0.0318</td>\n",
       "    </tr>\n",
       "    <tr>\n",
       "      <th>BWX</th>\n",
       "      <td>-0.0077</td>\n",
       "      <td>0.0828</td>\n",
       "      <td>-0.0932</td>\n",
       "    </tr>\n",
       "  </tbody>\n",
       "</table>\n",
       "</div>"
      ],
      "text/plain": [
       "       Mean  Volatility  Sharpe Ratio\n",
       "SPY  0.1281      0.1428        0.8971\n",
       "HYG  0.0414      0.0759        0.5449\n",
       "IYR  0.0749      0.1687        0.4441\n",
       "PSP  0.0926      0.2134        0.4338\n",
       "EFA  0.0618      0.1509        0.4094\n",
       "TIP  0.0205      0.0511        0.4011\n",
       "IEF  0.0164      0.0634        0.2586\n",
       "EEM  0.0293      0.1762        0.1665\n",
       "DBC -0.0053      0.1666       -0.0318\n",
       "BWX -0.0077      0.0828       -0.0932"
      ]
     },
     "metadata": {},
     "output_type": "display_data"
    },
    {
     "name": "stdout",
     "output_type": "stream",
     "text": [
      "Best Sharpe: SPY with 0.8971\n",
      "Worst Sharpe: BWX with -0.0932\n"
     ]
    }
   ],
   "source": [
    "#### SUMMARY STATISTICS ####\n",
    "\n",
    "means = excess_returns.mean() * 12\n",
    "vols = excess_returns.std() * np.sqrt(12)\n",
    "sharpe_ratios = means / vols\n",
    "summary_stats = pd.DataFrame(\n",
    "    {\"Mean\": means, \"Volatility\": vols, \"Sharpe Ratio\": sharpe_ratios}\n",
    ")\n",
    "\n",
    "display(summary_stats.round(4).sort_values(by=\"Sharpe Ratio\", ascending=False))\n",
    "print(\n",
    "    f\"Best Sharpe: {summary_stats['Sharpe Ratio'].idxmax()} with {summary_stats['Sharpe Ratio'].max():.4f}\"\n",
    ")\n",
    "print(\n",
    "    f\"Worst Sharpe: {summary_stats['Sharpe Ratio'].idxmin()} with {summary_stats['Sharpe Ratio'].min():.4f}\"\n",
    ")"
   ]
  },
  {
   "cell_type": "markdown",
   "id": "c2140f16",
   "metadata": {},
   "source": [
    "### Best Sharpe: SPY with 0.8971\n",
    "\n",
    "### Worst Sharpe: BWX with -0.0932\n"
   ]
  },
  {
   "cell_type": "markdown",
   "id": "a00eda3d",
   "metadata": {},
   "source": [
    "## 2. Descriptive Analysis\n"
   ]
  },
  {
   "cell_type": "code",
   "execution_count": 4,
   "id": "ba8bc637",
   "metadata": {},
   "outputs": [
    {
     "name": "stdout",
     "output_type": "stream",
     "text": [
      "Pair with highest correlation: ('EFA', 'PSP') with 0.8953\n",
      "Pair with lowest correlation: ('DBC', 'IEF') with -0.3002\n",
      "TIP (excess) returns: 0.0205\n",
      "IEF (excess) returns: 0.0164\n",
      "BWX (excess) returns: -0.0077\n"
     ]
    },
    {
     "data": {
      "image/png": "[encoded data removed]",
      "text/plain": [
       "<Figure size 640x480 with 2 Axes>"
      ]
     },
     "metadata": {},
     "output_type": "display_data"
    }
   ],
   "source": [
    "#### CORRELATION ANALYSIS ####\n",
    "\n",
    "import seaborn as sns\n",
    "\n",
    "corrs = excess_returns.corr()\n",
    "sns.heatmap(corrs, annot=True, fmt=\".2f\", cmap=\"coolwarm\")\n",
    "unique = corrs.where(np.triu(np.ones(corrs.shape), k=1).astype(bool)).stack()\n",
    "ma = unique.idxmax(), unique.max()\n",
    "mi = unique.idxmin(), unique.min()\n",
    "print(f\"Pair with highest correlation: {ma[0]} with {ma[1]:.4f}\")\n",
    "print(f\"Pair with lowest correlation: {mi[0]} with {mi[1]:.4f}\")\n",
    "print(f\"TIP (excess) returns: {means['TIP']:.4f}\")\n",
    "print(f\"IEF (excess) returns: {means['IEF']:.4f}\")\n",
    "print(f\"BWX (excess) returns: {means['BWX']:.4f}\")"
   ]
  },
  {
   "cell_type": "markdown",
   "id": "f7beaf07",
   "metadata": {},
   "source": [
    "- The pair with the highest correlation is EFA and PSP with 0.8953, which suggests that global private equity companies and large corporations in (non-US) developed nations are highly correlated. The pair with the lowest correlation is HYG and IEF with -0.0491, which suggests that commodities and 7-10Y TBonds are not very correlated.\n",
    "\n",
    "- TIP outperformed domestic bonds (IEF) and international bonds (BWX) on an excess return basis over the sample period.\n",
    "\n",
    "<div align=\"center\">\n",
    "\n",
    "| Asset | Excess Return |\n",
    "| ----- | ------------- |\n",
    "| TIP   | 0.0205        |\n",
    "| IEF   | 0.0164        |\n",
    "| BWX   | -0.0077       |\n",
    "\n",
    "</div>\n"
   ]
  },
  {
   "cell_type": "markdown",
   "id": "44f4ec3f",
   "metadata": {},
   "source": [
    "## 3. The MV Frontier\n"
   ]
  },
  {
   "cell_type": "code",
   "execution_count": 5,
   "id": "fa9c785d",
   "metadata": {},
   "outputs": [
    {
     "data": {
      "text/html": [
       "<div>\n",
       "<style scoped>\n",
       "    .dataframe tbody tr th:only-of-type {\n",
       "        vertical-align: middle;\n",
       "    }\n",
       "\n",
       "    .dataframe tbody tr th {\n",
       "        vertical-align: top;\n",
       "    }\n",
       "\n",
       "    .dataframe thead th {\n",
       "        text-align: right;\n",
       "    }\n",
       "</style>\n",
       "<table border=\"1\" class=\"dataframe\">\n",
       "  <thead>\n",
       "    <tr style=\"text-align: right;\">\n",
       "      <th></th>\n",
       "      <th>Weight</th>\n",
       "      <th>Sharpe</th>\n",
       "    </tr>\n",
       "  </thead>\n",
       "  <tbody>\n",
       "    <tr>\n",
       "      <th>SPY</th>\n",
       "      <td>1.0596</td>\n",
       "      <td>0.8971</td>\n",
       "    </tr>\n",
       "    <tr>\n",
       "      <th>IEF</th>\n",
       "      <td>0.8812</td>\n",
       "      <td>0.2586</td>\n",
       "    </tr>\n",
       "    <tr>\n",
       "      <th>HYG</th>\n",
       "      <td>0.2906</td>\n",
       "      <td>0.5449</td>\n",
       "    </tr>\n",
       "    <tr>\n",
       "      <th>TIP</th>\n",
       "      <td>0.1753</td>\n",
       "      <td>0.4011</td>\n",
       "    </tr>\n",
       "    <tr>\n",
       "      <th>EFA</th>\n",
       "      <td>0.0687</td>\n",
       "      <td>0.4094</td>\n",
       "    </tr>\n",
       "    <tr>\n",
       "      <th>EEM</th>\n",
       "      <td>0.0264</td>\n",
       "      <td>0.1665</td>\n",
       "    </tr>\n",
       "    <tr>\n",
       "      <th>DBC</th>\n",
       "      <td>-0.0716</td>\n",
       "      <td>-0.0318</td>\n",
       "    </tr>\n",
       "    <tr>\n",
       "      <th>IYR</th>\n",
       "      <td>-0.2466</td>\n",
       "      <td>0.4441</td>\n",
       "    </tr>\n",
       "    <tr>\n",
       "      <th>PSP</th>\n",
       "      <td>-0.3330</td>\n",
       "      <td>0.4338</td>\n",
       "    </tr>\n",
       "    <tr>\n",
       "      <th>BWX</th>\n",
       "      <td>-0.8506</td>\n",
       "      <td>-0.0932</td>\n",
       "    </tr>\n",
       "  </tbody>\n",
       "</table>\n",
       "</div>"
      ],
      "text/plain": [
       "     Weight  Sharpe\n",
       "SPY  1.0596  0.8971\n",
       "IEF  0.8812  0.2586\n",
       "HYG  0.2906  0.5449\n",
       "TIP  0.1753  0.4011\n",
       "EFA  0.0687  0.4094\n",
       "EEM  0.0264  0.1665\n",
       "DBC -0.0716 -0.0318\n",
       "IYR -0.2466  0.4441\n",
       "PSP -0.3330  0.4338\n",
       "BWX -0.8506 -0.0932"
      ]
     },
     "metadata": {},
     "output_type": "display_data"
    }
   ],
   "source": [
    "sigma = (excess_returns.cov()).to_numpy()\n",
    "mu = (excess_returns.mean()).to_numpy().reshape(-1, 1)\n",
    "inv_sigma = np.linalg.inv(sigma)\n",
    "w_tan = (inv_sigma @ mu).flatten()\n",
    "w_tan /= np.sum(w_tan)\n",
    "display(\n",
    "    pd.DataFrame({\"Weight\": w_tan, \"Sharpe\": sharpe_ratios})\n",
    "    .sort_values(by=\"Weight\", ascending=False)\n",
    "    .round(4)\n",
    ")\n",
    "\n",
    "# mean of portfolio\n",
    "mean_p = (w_tan @ mu).item() * 12\n",
    "# vol of portfolio\n",
    "vol_p = ((w_tan @ sigma @ w_tan).item() * 12) ** 0.5\n",
    "sharpe_p = mean_p / vol_p"
   ]
  },
  {
   "cell_type": "code",
   "execution_count": 6,
   "id": "6fedf26c",
   "metadata": {},
   "outputs": [
    {
     "name": "stdout",
     "output_type": "stream",
     "text": [
      "       Weight    Sharpe\n",
      "SPY  1.059632  0.897103\n",
      "IEF  0.881186  0.258569\n",
      "HYG  0.290614  0.544873\n",
      "TIP  0.175293  0.401091\n",
      "EFA  0.068682  0.409372\n",
      "EEM  0.026437  0.166542\n",
      "DBC -0.071623 -0.031774\n",
      "IYR -0.246582  0.444143\n",
      "PSP -0.332995  0.433804\n",
      "BWX -0.850643 -0.093202\n",
      "Tangency Portfolio Sharpe Ratio: 1.4692 with mean excess return 0.1285 and volatility 0.0875\n"
     ]
    }
   ],
   "source": [
    "# mean of portfolio\n",
    "mean_p = (w_tan @ mu).item() * 12\n",
    "# vol of portfolio\n",
    "vol_p = ((w_tan @ sigma @ w_tan).item() * 12) ** 0.5\n",
    "sharpe_p = mean_p / vol_p\n",
    "# sharpe_ratios = means / vols\n",
    "\n",
    "weights = pd.DataFrame(\n",
    "    {\"Weight\": w_tan, \"Sharpe\": sharpe_ratios[excess_returns.columns]}\n",
    ").sort_values(by=\"Weight\", ascending=False)\n",
    "print(weights)\n",
    "\n",
    "# print(mean_p, vol_p, sharpe_p)\n",
    "\n",
    "print(\n",
    "    f\"Tangency Portfolio Sharpe Ratio: {sharpe_p:.4f} with mean excess return {mean_p:.4f} and volatility {vol_p:.4f}\"\n",
    ")"
   ]
  },
  {
   "cell_type": "markdown",
   "id": "71cd4a12",
   "metadata": {},
   "source": [
    "## 4. TIPS\n",
    "\n",
    "### 4.1 TIPS dropped from investment set\n"
   ]
  },
  {
   "cell_type": "code",
   "execution_count": 7,
   "id": "b125c611",
   "metadata": {},
   "outputs": [
    {
     "name": "stdout",
     "output_type": "stream",
     "text": [
      "       Weight    Sharpe\n",
      "BWX -0.879292 -0.093202\n",
      "DBC -0.063742 -0.031774\n",
      "EEM  0.032493  0.166542\n",
      "EFA  0.060153  0.409372\n",
      "HYG  0.316300  0.544873\n",
      "IEF  1.019957  0.258569\n",
      "IYR -0.247445  0.444143\n",
      "PSP -0.339398  0.433804\n",
      "SPY  1.100973  0.897103\n",
      "Tangency Portfolio (no TIP) Sharpe Ratio: 1.4675 with mean excess return 0.1327 and volatility 0.0905\n"
     ]
    }
   ],
   "source": [
    "# excess_returns_no_tips\n",
    "ernt = excess_returns.drop(columns=[\"TIP\"])\n",
    "sigma = (ernt.cov()).to_numpy()\n",
    "mu = (ernt.mean()).to_numpy().reshape(-1, 1)\n",
    "inv_sigma = np.linalg.inv(sigma)\n",
    "w_tan = (inv_sigma @ mu).flatten()\n",
    "w_tan /= np.sum(w_tan)\n",
    "weights = pd.DataFrame({\"Weight\": w_tan, \"Sharpe\": sharpe_ratios[ernt.columns]})\n",
    "print(weights)\n",
    "# mean of portfolio\n",
    "mean_p = (w_tan @ mu).item() * 12\n",
    "# vol of portfolio\n",
    "vol_p = ((w_tan @ sigma @ w_tan).item() * 12) ** 0.5\n",
    "sharpe_p = mean_p / vol_p\n",
    "\n",
    "print(\n",
    "    f\"Tangency Portfolio (no TIP) Sharpe Ratio: {sharpe_p:.4f} with mean excess return {mean_p:.4f} and volatility {vol_p:.4f}\"\n",
    ")"
   ]
  },
  {
   "cell_type": "markdown",
   "id": "f0ee52c6",
   "metadata": {},
   "source": [
    "### 4.2 TIPS excess returns increased by 0.0012\n"
   ]
  },
  {
   "cell_type": "code",
   "execution_count": 8,
   "id": "c1bc41f9",
   "metadata": {},
   "outputs": [
    {
     "name": "stdout",
     "output_type": "stream",
     "text": [
      "       Weight    Sharpe\n",
      "BWX -0.669693 -0.093202\n",
      "DBC -0.121397 -0.031774\n",
      "EEM -0.011815  0.166542\n",
      "EFA  0.122554  0.409372\n",
      "HYG  0.128372  0.544873\n",
      "IEF  0.004667  0.258569\n",
      "IYR -0.241132  0.444143\n",
      "PSP -0.292555  0.433804\n",
      "SPY  0.798513  0.897103\n",
      "TIP  1.282487  0.401091\n",
      "Tangency Portfolio (with increased TIP) Sharpe Ratio: 1.6124 with mean excess return 0.1204 and volatility 0.0746\n"
     ]
    }
   ],
   "source": [
    "erit = excess_returns.copy()\n",
    "erit[\"TIP\"] += 0.0012\n",
    "sigma = (erit.cov()).to_numpy()\n",
    "mu = (erit.mean()).to_numpy().reshape(-1, 1)\n",
    "inv_sigma = np.linalg.inv(sigma)\n",
    "w_tan = (inv_sigma @ mu).flatten()\n",
    "w_tan /= np.sum(w_tan)\n",
    "weights = pd.DataFrame({\"Weight\": w_tan, \"Sharpe\": sharpe_ratios[erit.columns]})\n",
    "print(weights)\n",
    "# mean of portfolio\n",
    "mean_p = (w_tan @ mu).item() * 12\n",
    "# vol of portfolio\n",
    "vol_p = ((w_tan @ sigma @ w_tan).item() * 12) ** 0.5\n",
    "sharpe_p = mean_p / vol_p\n",
    "\n",
    "print(\n",
    "    f\"Tangency Portfolio (with increased TIP) Sharpe Ratio: {sharpe_p:.4f} with mean excess return {mean_p:.4f} and volatility {vol_p:.4f}\"\n",
    ")"
   ]
  },
  {
   "cell_type": "markdown",
   "id": "721cd13a",
   "metadata": {},
   "source": [
    "    Sharpe ratio of full investment set was 1.4692 (mean 12.85%, vol 8.75%). With TIP removed, sharpe was 1.4675 (mean 13.27 % and volatility 9.05%). Finally, with TIP excess returns increased by 0.0012, sharpe was 1.6124 (mean 12.04%, vol 7.47%). Thus, removing TIP had a negligible effect on the investment set and considering TIP as its own asset class may not be necessary.\n"
   ]
  },
  {
   "cell_type": "markdown",
   "id": "c8b290d1",
   "metadata": {},
   "source": [
    "## 3. Allocations\n"
   ]
  },
  {
   "cell_type": "code",
   "execution_count": 9,
   "id": "ebfea859",
   "metadata": {},
   "outputs": [
    {
     "name": "stdout",
     "output_type": "stream",
     "text": [
      "           EW        RP        MV    Sharpe\n",
      "SPY  0.265486  0.181600  0.989382  0.897103\n",
      "IEF  0.265486  0.920577  0.822766  0.258569\n",
      "HYG  0.265486  0.642698  0.271347  0.544873\n",
      "TIP  0.265486  1.418104  0.163671  0.401091\n",
      "EFA  0.265486  0.162710  0.064129  0.409372\n",
      "EEM  0.265486  0.119392  0.024684  0.166542\n",
      "DBC  0.265486  0.133569 -0.066874 -0.031774\n",
      "IYR  0.265486  0.130229 -0.230235  0.444143\n",
      "PSP  0.265486  0.081385 -0.310919  0.433804\n",
      "BWX  0.265486  0.540585 -0.794248 -0.093202\n"
     ]
    }
   ],
   "source": [
    "# Equally-Weighted (EW) Portfolio\n",
    "w_ew = np.ones(len(excess_returns.columns)) / len(excess_returns.columns)\n",
    "\n",
    "# Risk Parity (RP) Portfolio\n",
    "w_rp = (w_rp := 1 / excess_returns.var()) / w_rp.sum()\n",
    "\n",
    "# Mean-Variance Optimal (MV) Portfolio\n",
    "w_mv = (\n",
    "    w_mv := (inv_sigma := np.linalg.inv(excess_returns.cov().to_numpy())) @ means\n",
    ") / w_mv.sum()\n",
    "\n",
    "# target mean: µ = 0.01 (monthly)\n",
    "target_mean = 0.01\n",
    "\n",
    "# Rescaled weights\n",
    "w_ew_r = (w_ew := w_ew * target_mean / (w_ew @ excess_returns.mean()))\n",
    "w_rp_r = (w_rp := w_rp * target_mean / (w_rp @ excess_returns.mean()))\n",
    "w_mv_r = (w_mv := w_mv * target_mean / (w_mv @ excess_returns.mean()))\n",
    "\n",
    "weights = pd.DataFrame(\n",
    "    {\n",
    "        \"EW\": w_ew_r,\n",
    "        \"RP\": w_rp_r,\n",
    "        \"MV\": w_mv_r,\n",
    "        \"Sharpe\": sharpe_ratios[excess_returns.columns],\n",
    "    }\n",
    ").sort_values(by=\"MV\", ascending=False)\n",
    "print(weights)\n",
    "\n",
    "# print(f\"EW weights:\\n{pd.DataFrame({'Weight': w_ew}, index=excess_returns.columns)}\")\n",
    "# print(f\"RP weights:\\n{pd.DataFrame({'Weight': w_rp}, index=excess_returns.columns)}\")\n",
    "# print(f\"MV weights:\\n{pd.DataFrame({'Weight': w_mv}, index=excess_returns.columns)}\")\n",
    "\n",
    "# # sanity check (all portfolios should have mean return of 0.01\n",
    "# print(f\"EW mean: {w_ew @ excess_returns.mean():.4f}\")\n",
    "# print(f\"RP mean: {w_rp @ excess_returns.mean():.4f}\")\n",
    "# print(f\"MV mean: {w_mv @ excess_returns.mean():.4f}\")"
   ]
  },
  {
   "cell_type": "code",
   "execution_count": 10,
   "id": "1b5c0f2c",
   "metadata": {},
   "outputs": [
    {
     "name": "stdout",
     "output_type": "stream",
     "text": [
      "EW: Mean=0.1200, Vol=0.2692, Sharpe=0.4457\n",
      "RP: Mean=0.1200, Vol=0.2639, Sharpe=0.4547\n",
      "MV: Mean=0.1200, Vol=0.0817, Sharpe=1.4692\n"
     ]
    }
   ],
   "source": [
    "# Compute portfolio performance\n",
    "\n",
    "def portfolio_stats(weights, excess_returns):\n",
    "    mean_r = (weights @ excess_returns.mean()) * 12   # annualized mean\n",
    "    vol_r  = np.sqrt(weights @ excess_returns.cov().values @ weights) * np.sqrt(12)  # annualized vol\n",
    "    sharpe = mean_r / vol_r\n",
    "    return mean_r, vol_r, sharpe\n",
    "\n",
    "for name, w in zip([\"EW\", \"RP\", \"MV\"], [w_ew_r, w_rp_r, w_mv_r]):\n",
    "    m, v, s = portfolio_stats(w, excess_returns)\n",
    "    print(f\"{name}: Mean={m:.4f}, Vol={v:.4f}, Sharpe={s:.4f}\")\n"
   ]
  },
  {
   "cell_type": "markdown",
   "id": "f9ef7e32",
   "metadata": {},
   "source": [
    "By construction, all three portfolios achieve the same mean excess return of 0.12. However, their variances differ significantly: the Mean-Variance portfolio exhibits the lowest volatility, which results in a Sharpe ratio far exceeding that of the Equally Weighted and Risk Parity portfolios. Overall, the MV portfolio demonstrates substantial efficiency gains in the risk–return trade-off."
   ]
  }
 ],
 "metadata": {
  "kernelspec": {
   "display_name": "base",
   "language": "python",
   "name": "python3"
  },
  "language_info": {
   "codemirror_mode": {
    "name": "ipython",
    "version": 3
   },
   "file_extension": ".py",
   "mimetype": "text/x-python",
   "name": "python",
   "nbconvert_exporter": "python",
   "pygments_lexer": "ipython3",
   "version": "3.13.5"
  }
 },
 "nbformat": 4,
 "nbformat_minor": 5
}
