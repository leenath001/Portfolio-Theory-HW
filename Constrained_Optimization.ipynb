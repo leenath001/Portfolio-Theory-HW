{
 "cells": [
  {
   "cell_type": "code",
   "execution_count": 4,
   "id": "3bebc533",
   "metadata": {},
   "outputs": [],
   "source": [
    "# Import Libraries\n",
    "\n",
    "import pandas as pd\n",
    "import numpy as np\n",
    "import matplotlib.pyplot as plt\n",
    "import seaborn as sns"
   ]
  },
  {
   "cell_type": "markdown",
   "id": "3939e42d",
   "metadata": {},
   "source": [
    "# Constrained Optimization\n",
    "\n"
   ]
  },
  {
   "cell_type": "code",
   "execution_count": 16,
   "id": "034597cc",
   "metadata": {},
   "outputs": [],
   "source": [
    "# Import Data \n",
    "sp_returns = pd.read_excel(\"spx_returns_weekly.xlsx\", sheet_name=2, index_col = 0)\n",
    "etf_returns = pd.read_excel(\"spx_returns_weekly.xlsx\", sheet_name=3, index_col = 0)\n",
    "\n",
    "# Filter Relevant Data\n",
    "ticks  =  ['AAPL','NVDA','MSFT','GOOGL','AMZN','META','TSLA','AVGO','BRK/B','LLY']\n",
    "tick_etf = 'SPY'\n",
    "data = pd.concat([sp_returns[ticks], etf_returns[tick_etf]], axis=1)\n",
    "data.head()\n",
    "\n",
    "# Data Covariance\n",
    "cov = data.cov() * 52\n",
    "\n"
   ]
  },
  {
   "cell_type": "markdown",
   "id": "75989c15",
   "metadata": {},
   "source": [
    "## 1. Constrained Optimization for Mean-Variance"
   ]
  },
  {
   "cell_type": "code",
   "execution_count": null,
   "id": "7cfd295f",
   "metadata": {},
   "outputs": [],
   "source": [
    "from scipy.optimize import minimize\n",
    "\n",
    "# Carry out Constrained Optimization Bounded\n",
    "def constrained_weights_bound(data: pd.DataFrame, target_mean: float, max_weight: float, min_weight: float, freq: int) -> pd.DataFrame:\n",
    "    \n",
    "    mean = data.mean() * freq\n",
    "    cov_mat = data.cov() * freq\n",
    "    bounds = [(min_weight, max_weight)] * len(data.columns)\n",
    "\n",
    "    # Objective Function: Minimize Portfolio Variabce\n",
    "    def objective_function(w):\n",
    "        return w.T @ cov_mat @ w\n",
    "\n",
    "    # Constraint 1: Sum of Weights = 1\n",
    "    def constraint_capital(w):\n",
    "        return np.sum(w) - 1\n",
    "\n",
    "    capital_constraint = {'type': 'eq', 'fun': constraint_capital}\n",
    "\n",
    "    # Constraint 2: Portfolio Mean = Target Mean\n",
    "    def constraint_mean(w):\n",
    "        return (w @ mean) - target_mean\n",
    "\n",
    "    mean_constraint = {'type': 'eq', 'fun': constraint_mean}\n",
    "\n",
    "    # All Constraints\n",
    "    constraints = [capital_constraint, mean_constraint]\n",
    "\n",
    "    # Initial Input \n",
    "    w0 = np.ones(len(data.columns)) / len(data.columns)\n",
    "\n",
    "    # Conduct Minimization\n",
    "    result = minimize(\n",
    "        objective_function, \n",
    "        w0, \n",
    "        bounds=bounds,\n",
    "        constraints=constraints\n",
    "    )\n",
    "\n",
    "    # Return Weights\n",
    "    return result.x\n",
    "\n",
    "# Carry out Constrained Optimization \n",
    "def constrained_weights(data: pd.DataFrame, target_mean: float, freq: int) -> pd.DataFrame:\n",
    "    \n",
    "    mean = data.mean() * freq\n",
    "    cov_mat = data.cov() * freq\n",
    "\n",
    "    # Objective Function: Minimize Portfolio Variabce\n",
    "    def objective_function(w):\n",
    "        return w.T @ cov_mat @ w\n",
    "\n",
    "    # Constraint 1: Sum of Weights = 1\n",
    "    def constraint_capital(w):\n",
    "        return np.sum(w) - 1\n",
    "\n",
    "    capital_constraint = {'type': 'eq', 'fun': constraint_capital}\n",
    "\n",
    "    # Constraint 2: Portfolio Mean = Target Mean\n",
    "    def constraint_mean(w):\n",
    "        return (w @ mean) - target_mean\n",
    "\n",
    "    mean_constraint = {'type': 'eq', 'fun': constraint_mean}\n",
    "\n",
    "    # All Constraints\n",
    "    constraints = [capital_constraint, mean_constraint]\n",
    "\n",
    "    # Initial Input \n",
    "    w0 = np.ones(len(data.columns)) / len(data.columns)\n",
    "\n",
    "    # Conduct Minimization\n",
    "    result = minimize(\n",
    "        objective_function, \n",
    "        w0, \n",
    "        constraints=constraints\n",
    "    )\n",
    "\n",
    "    # Return Weights\n",
    "    return result.x\n",
    "\n"
   ]
  },
  {
   "cell_type": "code",
   "execution_count": 28,
   "id": "c01e5a91",
   "metadata": {},
   "outputs": [
    {
     "name": "stdout",
     "output_type": "stream",
     "text": [
      "Optimized weights:\n",
      "    Ticker    Weight\n",
      "0    AAPL  0.029241\n",
      "1    NVDA -0.014344\n",
      "2    MSFT  0.144508\n",
      "3   GOOGL  0.009064\n",
      "4    AMZN  0.093858\n",
      "5    META  0.002874\n",
      "6    TSLA -0.015071\n",
      "7    AVGO  0.036250\n",
      "8   BRK/B  0.350000\n",
      "9     LLY  0.213085\n",
      "10    SPY  0.150535\n",
      "Portfolio mean: 20.00%\n",
      "Portfolio volatility: 16.49%\n",
      "Portfolio Sharpe ratio: 1.21\n"
     ]
    }
   ],
   "source": [
    "# Conduct Optimization: Bounded\n",
    "w_opt_bounded = constrained_weights_bound(data, 0.2, 0.35, -0.2, 52)\n",
    "\n",
    "# Portfolio Mean\n",
    "port_mean_bound = (data.mean() * 52) @ w_opt\n",
    "# Portfolio Volatility\n",
    "port_vol_bound = np.sqrt(w_opt.T @ cov @ w_opt)\n",
    "# Portfolio Sharpe\n",
    "port_sharpe_bound= port_mean_bound/port_vol_bound\n",
    "\n",
    "\n",
    "weights_table_bounded = pd.DataFrame({\n",
    "    'Ticker': data.columns,\n",
    "    'Weight': w_opt\n",
    "})\n",
    "\n",
    "print(\"Optimized weights:\\n\", weights_table_bounded)\n",
    "print(f\"Portfolio mean: {port_mean_bound:.2%}\")\n",
    "print(f\"Portfolio volatility: {port_vol_bound:.2%}\")\n",
    "print(f\"Portfolio Sharpe ratio: {port_sharpe_bound:.2f}\")\n",
    "\n"
   ]
  },
  {
   "cell_type": "code",
   "execution_count": null,
   "id": "f4d913fb",
   "metadata": {},
   "outputs": [
    {
     "name": "stdout",
     "output_type": "stream",
     "text": [
      "Optimized weights:\n",
      "    Ticker    Weight\n",
      "0    AAPL  0.029241\n",
      "1    NVDA -0.014344\n",
      "2    MSFT  0.144508\n",
      "3   GOOGL  0.009064\n",
      "4    AMZN  0.093858\n",
      "5    META  0.002874\n",
      "6    TSLA -0.015071\n",
      "7    AVGO  0.036250\n",
      "8   BRK/B  0.350000\n",
      "9     LLY  0.213085\n",
      "10    SPY  0.150535\n",
      "Portfolio mean: 20.00%\n",
      "Portfolio volatility: 16.49%\n",
      "Portfolio Sharpe ratio: 1.21\n"
     ]
    }
   ],
   "source": [
    "# Conduct Optimization: Unounded\n",
    "w_opt_unbounded = constrained_weights(data, 0.2, 52)\n",
    "\n",
    "port_mean_unbound = (data.mean() * 52) @ w_opt_unbounded\n",
    "port_vol_unbound = np.sqrt(w_opt_unbounded.T @ cov_mat @ w_opt_unbounded)\n",
    "port_sharpe_unbound = port_mean_unbound / port_vol_unbound\n",
    "\n",
    "\n",
    "\n",
    "weights_table_unbounded = pd.DataFrame({\n",
    "    'Ticker': data.columns,\n",
    "    'Weight': w_opt\n",
    "})\n",
    "\n",
    "print(\"Optimized weights:\\n\", weights_table_unbounded)\n",
    "print(f\"Portfolio mean: {port_mean_unbound:.2%}\")\n",
    "print(f\"Portfolio volatility: {port_vol_unbound:.2%}\")\n",
    "print(f\"Portfolio Sharpe ratio: {port_sharpe_unbound:.2f}\")\n"
   ]
  },
  {
   "cell_type": "code",
   "execution_count": null,
   "id": "7987b1cc",
   "metadata": {},
   "outputs": [
    {
     "data": {
      "text/plain": [
       "np.float64(0.20000000000000007)"
      ]
     },
     "execution_count": 56,
     "metadata": {},
     "output_type": "execute_result"
    }
   ],
   "source": [
    "# Analytic Method\n",
    "mean_ann = data.mean() * 52\n",
    "cov_mat = data.cov() * 52\n",
    "\n",
    "w_analytic = np.linalg.inv(cov_mat) @ mean_ann\n",
    "w_analytic /= np.sum(w_analytic)  # normalize to sum = 1\n",
    "w_analytic = w_analytic * 0.2 /(w_analytic @ mean_ann)\n",
    "\n",
    "w_analytic @ mean_ann\n"
   ]
  },
  {
   "cell_type": "code",
   "execution_count": null,
   "id": "e9596b93",
   "metadata": {},
   "outputs": [],
   "source": [
    "# Equal Weight\n",
    "n_assets = len(data.columns)\n",
    "equal_weights = np.ones(n_assets) / n_assets\n"
   ]
  },
  {
   "cell_type": "code",
   "execution_count": 62,
   "id": "cf0c81b8",
   "metadata": {},
   "outputs": [
    {
     "data": {
      "text/html": [
       "<style type=\"text/css\">\n",
       "</style>\n",
       "<table id=\"T_4ef4e\">\n",
       "  <thead>\n",
       "    <tr>\n",
       "      <th class=\"blank level0\" >&nbsp;</th>\n",
       "      <th id=\"T_4ef4e_level0_col0\" class=\"col_heading level0 col0\" >equal</th>\n",
       "      <th id=\"T_4ef4e_level0_col1\" class=\"col_heading level0 col1\" >bounded</th>\n",
       "      <th id=\"T_4ef4e_level0_col2\" class=\"col_heading level0 col2\" >unbounded</th>\n",
       "      <th id=\"T_4ef4e_level0_col3\" class=\"col_heading level0 col3\" >analytic</th>\n",
       "      <th id=\"T_4ef4e_level0_col4\" class=\"col_heading level0 col4\" >mean return</th>\n",
       "      <th id=\"T_4ef4e_level0_col5\" class=\"col_heading level0 col5\" >sharpe</th>\n",
       "    </tr>\n",
       "  </thead>\n",
       "  <tbody>\n",
       "    <tr>\n",
       "      <th id=\"T_4ef4e_level0_row0\" class=\"row_heading level0 row0\" >AAPL</th>\n",
       "      <td id=\"T_4ef4e_row0_col0\" class=\"data row0 col0\" >9.09%</td>\n",
       "      <td id=\"T_4ef4e_row0_col1\" class=\"data row0 col1\" >2.92%</td>\n",
       "      <td id=\"T_4ef4e_row0_col2\" class=\"data row0 col2\" >2.95%</td>\n",
       "      <td id=\"T_4ef4e_row0_col3\" class=\"data row0 col3\" >6.29%</td>\n",
       "      <td id=\"T_4ef4e_row0_col4\" class=\"data row0 col4\" >23.87%</td>\n",
       "      <td id=\"T_4ef4e_row0_col5\" class=\"data row0 col5\" >86.29%</td>\n",
       "    </tr>\n",
       "    <tr>\n",
       "      <th id=\"T_4ef4e_level0_row1\" class=\"row_heading level0 row1\" >NVDA</th>\n",
       "      <td id=\"T_4ef4e_row1_col0\" class=\"data row1 col0\" >9.09%</td>\n",
       "      <td id=\"T_4ef4e_row1_col1\" class=\"data row1 col1\" >-1.43%</td>\n",
       "      <td id=\"T_4ef4e_row1_col2\" class=\"data row1 col2\" >-1.53%</td>\n",
       "      <td id=\"T_4ef4e_row1_col3\" class=\"data row1 col3\" >13.56%</td>\n",
       "      <td id=\"T_4ef4e_row1_col4\" class=\"data row1 col4\" >64.56%</td>\n",
       "      <td id=\"T_4ef4e_row1_col5\" class=\"data row1 col5\" >139.35%</td>\n",
       "    </tr>\n",
       "    <tr>\n",
       "      <th id=\"T_4ef4e_level0_row2\" class=\"row_heading level0 row2\" >MSFT</th>\n",
       "      <td id=\"T_4ef4e_row2_col0\" class=\"data row2 col0\" >9.09%</td>\n",
       "      <td id=\"T_4ef4e_row2_col1\" class=\"data row2 col1\" >14.45%</td>\n",
       "      <td id=\"T_4ef4e_row2_col2\" class=\"data row2 col2\" >15.20%</td>\n",
       "      <td id=\"T_4ef4e_row2_col3\" class=\"data row2 col3\" >13.03%</td>\n",
       "      <td id=\"T_4ef4e_row2_col4\" class=\"data row2 col4\" >26.14%</td>\n",
       "      <td id=\"T_4ef4e_row2_col5\" class=\"data row2 col5\" >108.93%</td>\n",
       "    </tr>\n",
       "    <tr>\n",
       "      <th id=\"T_4ef4e_level0_row3\" class=\"row_heading level0 row3\" >GOOGL</th>\n",
       "      <td id=\"T_4ef4e_row3_col0\" class=\"data row3 col0\" >9.09%</td>\n",
       "      <td id=\"T_4ef4e_row3_col1\" class=\"data row3 col1\" >0.91%</td>\n",
       "      <td id=\"T_4ef4e_row3_col2\" class=\"data row3 col2\" >0.82%</td>\n",
       "      <td id=\"T_4ef4e_row3_col3\" class=\"data row3 col3\" >2.97%</td>\n",
       "      <td id=\"T_4ef4e_row3_col4\" class=\"data row3 col4\" >21.68%</td>\n",
       "      <td id=\"T_4ef4e_row3_col5\" class=\"data row3 col5\" >77.47%</td>\n",
       "    </tr>\n",
       "    <tr>\n",
       "      <th id=\"T_4ef4e_level0_row4\" class=\"row_heading level0 row4\" >AMZN</th>\n",
       "      <td id=\"T_4ef4e_row4_col0\" class=\"data row4 col0\" >9.09%</td>\n",
       "      <td id=\"T_4ef4e_row4_col1\" class=\"data row4 col1\" >9.39%</td>\n",
       "      <td id=\"T_4ef4e_row4_col2\" class=\"data row4 col2\" >9.49%</td>\n",
       "      <td id=\"T_4ef4e_row4_col3\" class=\"data row4 col3\" >6.55%</td>\n",
       "      <td id=\"T_4ef4e_row4_col4\" class=\"data row4 col4\" >29.34%</td>\n",
       "      <td id=\"T_4ef4e_row4_col5\" class=\"data row4 col5\" >95.90%</td>\n",
       "    </tr>\n",
       "    <tr>\n",
       "      <th id=\"T_4ef4e_level0_row5\" class=\"row_heading level0 row5\" >META</th>\n",
       "      <td id=\"T_4ef4e_row5_col0\" class=\"data row5 col0\" >9.09%</td>\n",
       "      <td id=\"T_4ef4e_row5_col1\" class=\"data row5 col1\" >0.29%</td>\n",
       "      <td id=\"T_4ef4e_row5_col2\" class=\"data row5 col2\" >0.20%</td>\n",
       "      <td id=\"T_4ef4e_row5_col3\" class=\"data row5 col3\" >4.26%</td>\n",
       "      <td id=\"T_4ef4e_row5_col4\" class=\"data row5 col4\" >26.19%</td>\n",
       "      <td id=\"T_4ef4e_row5_col5\" class=\"data row5 col5\" >74.55%</td>\n",
       "    </tr>\n",
       "    <tr>\n",
       "      <th id=\"T_4ef4e_level0_row6\" class=\"row_heading level0 row6\" >TSLA</th>\n",
       "      <td id=\"T_4ef4e_row6_col0\" class=\"data row6 col0\" >9.09%</td>\n",
       "      <td id=\"T_4ef4e_row6_col1\" class=\"data row6 col1\" >-1.51%</td>\n",
       "      <td id=\"T_4ef4e_row6_col2\" class=\"data row6 col2\" >-1.49%</td>\n",
       "      <td id=\"T_4ef4e_row6_col3\" class=\"data row6 col3\" >4.76%</td>\n",
       "      <td id=\"T_4ef4e_row6_col4\" class=\"data row6 col4\" >46.98%</td>\n",
       "      <td id=\"T_4ef4e_row6_col5\" class=\"data row6 col5\" >80.10%</td>\n",
       "    </tr>\n",
       "    <tr>\n",
       "      <th id=\"T_4ef4e_level0_row7\" class=\"row_heading level0 row7\" >AVGO</th>\n",
       "      <td id=\"T_4ef4e_row7_col0\" class=\"data row7 col0\" >9.09%</td>\n",
       "      <td id=\"T_4ef4e_row7_col1\" class=\"data row7 col1\" >3.62%</td>\n",
       "      <td id=\"T_4ef4e_row7_col2\" class=\"data row7 col2\" >3.54%</td>\n",
       "      <td id=\"T_4ef4e_row7_col3\" class=\"data row7 col3\" >9.24%</td>\n",
       "      <td id=\"T_4ef4e_row7_col4\" class=\"data row7 col4\" >39.49%</td>\n",
       "      <td id=\"T_4ef4e_row7_col5\" class=\"data row7 col5\" >105.26%</td>\n",
       "    </tr>\n",
       "    <tr>\n",
       "      <th id=\"T_4ef4e_level0_row8\" class=\"row_heading level0 row8\" >BRK/B</th>\n",
       "      <td id=\"T_4ef4e_row8_col0\" class=\"data row8 col0\" >9.09%</td>\n",
       "      <td id=\"T_4ef4e_row8_col1\" class=\"data row8 col1\" >35.00%</td>\n",
       "      <td id=\"T_4ef4e_row8_col2\" class=\"data row8 col2\" >36.76%</td>\n",
       "      <td id=\"T_4ef4e_row8_col3\" class=\"data row8 col3\" >39.63%</td>\n",
       "      <td id=\"T_4ef4e_row8_col4\" class=\"data row8 col4\" >13.50%</td>\n",
       "      <td id=\"T_4ef4e_row8_col5\" class=\"data row8 col5\" >70.82%</td>\n",
       "    </tr>\n",
       "    <tr>\n",
       "      <th id=\"T_4ef4e_level0_row9\" class=\"row_heading level0 row9\" >LLY</th>\n",
       "      <td id=\"T_4ef4e_row9_col0\" class=\"data row9 col0\" >9.09%</td>\n",
       "      <td id=\"T_4ef4e_row9_col1\" class=\"data row9 col1\" >21.31%</td>\n",
       "      <td id=\"T_4ef4e_row9_col2\" class=\"data row9 col2\" >21.05%</td>\n",
       "      <td id=\"T_4ef4e_row9_col3\" class=\"data row9 col3\" >17.09%</td>\n",
       "      <td id=\"T_4ef4e_row9_col4\" class=\"data row9 col4\" >28.15%</td>\n",
       "      <td id=\"T_4ef4e_row9_col5\" class=\"data row9 col5\" >99.49%</td>\n",
       "    </tr>\n",
       "    <tr>\n",
       "      <th id=\"T_4ef4e_level0_row10\" class=\"row_heading level0 row10\" >SPY</th>\n",
       "      <td id=\"T_4ef4e_row10_col0\" class=\"data row10 col0\" >9.09%</td>\n",
       "      <td id=\"T_4ef4e_row10_col1\" class=\"data row10 col1\" >15.05%</td>\n",
       "      <td id=\"T_4ef4e_row10_col2\" class=\"data row10 col2\" >13.01%</td>\n",
       "      <td id=\"T_4ef4e_row10_col3\" class=\"data row10 col3\" >-102.02%</td>\n",
       "      <td id=\"T_4ef4e_row10_col4\" class=\"data row10 col4\" >13.13%</td>\n",
       "      <td id=\"T_4ef4e_row10_col5\" class=\"data row10 col5\" >76.82%</td>\n",
       "    </tr>\n",
       "  </tbody>\n",
       "</table>\n"
      ],
      "text/plain": [
       "<pandas.io.formats.style.Styler at 0x123a68550>"
      ]
     },
     "execution_count": 62,
     "metadata": {},
     "output_type": "execute_result"
    }
   ],
   "source": [
    "summary_table = pd.DataFrame({\n",
    "    'equal': equal_weights,\n",
    "    'bounded': w_opt_bounded,\n",
    "    'unbounded': w_opt_unbounded,\n",
    "    'analytic': w_analytic,\n",
    "    'mean return': data.mean() * 52,\n",
    "    'sharpe': (data.mean() * 52) / (data.std() * (52 ** 0.5))\n",
    "}, index=data.columns)\n",
    "\n",
    "corr = summary_table['bounded'].corr(summary_table['unbounded'])\n",
    "\n",
    "# Format as percentages\n",
    "summary_table_styled = summary_table.style.format('{:.2%}')\n",
    "summary_table_styled\n"
   ]
  },
  {
   "cell_type": "markdown",
   "id": "4ca2906e",
   "metadata": {},
   "source": [
    "The most extreme positions in the bounded portfolio do not always correspond to the assets with the highest Sharpe ratios or mean returns. This is because the optimizer is constrained by bounds and a fixed target mean. It balances expected return against risk and cannot fully allocate to high-Sharpe assets."
   ]
  },
  {
   "cell_type": "code",
   "execution_count": 63,
   "id": "382e7b6f",
   "metadata": {},
   "outputs": [
    {
     "name": "stdout",
     "output_type": "stream",
     "text": [
      "The correlation between BOUNDED and UNBOUNDED is: 0.9975332859405379 %\n"
     ]
    }
   ],
   "source": [
    "print(f\"The correlation between BOUNDED and UNBOUNDED is: {corr} %\")"
   ]
  },
  {
   "cell_type": "code",
   "execution_count": 64,
   "id": "d1b022be",
   "metadata": {},
   "outputs": [
    {
     "data": {
      "text/html": [
       "<style type=\"text/css\">\n",
       "</style>\n",
       "<table id=\"T_4f08f\">\n",
       "  <thead>\n",
       "    <tr>\n",
       "      <th class=\"blank level0\" >&nbsp;</th>\n",
       "      <th id=\"T_4f08f_level0_col0\" class=\"col_heading level0 col0\" >mean</th>\n",
       "      <th id=\"T_4f08f_level0_col1\" class=\"col_heading level0 col1\" >vol</th>\n",
       "      <th id=\"T_4f08f_level0_col2\" class=\"col_heading level0 col2\" >sharpe</th>\n",
       "    </tr>\n",
       "  </thead>\n",
       "  <tbody>\n",
       "    <tr>\n",
       "      <th id=\"T_4f08f_level0_row0\" class=\"row_heading level0 row0\" >equal</th>\n",
       "      <td id=\"T_4f08f_row0_col0\" class=\"data row0 col0\" >30.28%</td>\n",
       "      <td id=\"T_4f08f_row0_col1\" class=\"data row0 col1\" >22.16%</td>\n",
       "      <td id=\"T_4f08f_row0_col2\" class=\"data row0 col2\" >136.64%</td>\n",
       "    </tr>\n",
       "    <tr>\n",
       "      <th id=\"T_4f08f_level0_row1\" class=\"row_heading level0 row1\" >bounded</th>\n",
       "      <td id=\"T_4f08f_row1_col0\" class=\"data row1 col0\" >20.00%</td>\n",
       "      <td id=\"T_4f08f_row1_col1\" class=\"data row1 col1\" >16.49%</td>\n",
       "      <td id=\"T_4f08f_row1_col2\" class=\"data row1 col2\" >121.29%</td>\n",
       "    </tr>\n",
       "    <tr>\n",
       "      <th id=\"T_4f08f_level0_row2\" class=\"row_heading level0 row2\" >unbounded</th>\n",
       "      <td id=\"T_4f08f_row2_col0\" class=\"data row2 col0\" >20.00%</td>\n",
       "      <td id=\"T_4f08f_row2_col1\" class=\"data row2 col1\" >16.49%</td>\n",
       "      <td id=\"T_4f08f_row2_col2\" class=\"data row2 col2\" >121.31%</td>\n",
       "    </tr>\n",
       "    <tr>\n",
       "      <th id=\"T_4f08f_level0_row3\" class=\"row_heading level0 row3\" >analytic</th>\n",
       "      <td id=\"T_4f08f_row3_col0\" class=\"data row3 col0\" >20.00%</td>\n",
       "      <td id=\"T_4f08f_row3_col1\" class=\"data row3 col1\" >9.67%</td>\n",
       "      <td id=\"T_4f08f_row3_col2\" class=\"data row3 col2\" >206.85%</td>\n",
       "    </tr>\n",
       "  </tbody>\n",
       "</table>\n"
      ],
      "text/plain": [
       "<pandas.io.formats.style.Styler at 0x123a68e10>"
      ]
     },
     "execution_count": 64,
     "metadata": {},
     "output_type": "execute_result"
    }
   ],
   "source": [
    "# Compute portfolio stats \n",
    "def portfolio_stats(weights, mean, cov):\n",
    "    port_mean = weights @ mean\n",
    "    port_vol = np.sqrt(weights.T @ cov @ weights)\n",
    "    port_sharpe = port_mean / port_vol\n",
    "    return port_mean, port_vol, port_sharpe\n",
    "\n",
    "stats = {}\n",
    "for name, w in zip(\n",
    "    ['equal', 'bounded', 'unbounded', 'analytic'],\n",
    "    [equal_weights, w_opt_bounded, w_opt_unbounded, w_analytic]\n",
    "):\n",
    "    m, v, s = portfolio_stats(w, mean_ann, cov_mat)\n",
    "    stats[name] = [m, v, s]\n",
    "\n",
    "# --- Build DataFrame ---\n",
    "stats_table = pd.DataFrame(stats, index=['mean', 'vol', 'sharpe']).T\n",
    "\n",
    "# Format as percentages\n",
    "stats_table = stats_table.style.format({\n",
    "    'mean': '{:.2%}',\n",
    "    'vol': '{:.2%}',\n",
    "    'sharpe': '{:.2%}'\n",
    "})\n",
    "\n",
    "stats_table"
   ]
  },
  {
   "cell_type": "code",
   "execution_count": 66,
   "id": "ba998cc4",
   "metadata": {},
   "outputs": [
    {
     "data": {
      "image/png": "[encoded data removed]",
      "text/plain": [
       "<Figure size 800x600 with 1 Axes>"
      ]
     },
     "metadata": {},
     "output_type": "display_data"
    }
   ],
   "source": [
    "plt.figure(figsize=(8,6))\n",
    "sns.scatterplot(x=\"sharpe\", y=\"unbounded\", data=summary_table)\n",
    "for i in range(len(summary_table)):\n",
    "    plt.text(summary_table[\"sharpe\"].iloc[i] + 0.002,\n",
    "             summary_table[\"unbounded\"].iloc[i], \n",
    "             summary_table.index[i],\n",
    "             fontsize=10, ha='left', va='center')\n",
    "plt.title(\"Weights vs. Sharpe Ratios\", fontsize=14)\n",
    "plt.xlabel(\"Sharpe Ratio\", fontsize=12)\n",
    "plt.ylabel(\"Unbounded Constrainted Weights\", fontsize=12)\n",
    "plt.tight_layout()\n",
    "plt.show()"
   ]
  }
 ],
 "metadata": {
  "kernelspec": {
   "display_name": "base",
   "language": "python",
   "name": "python3"
  },
  "language_info": {
   "codemirror_mode": {
    "name": "ipython",
    "version": 3
   },
   "file_extension": ".py",
   "mimetype": "text/x-python",
   "name": "python",
   "nbconvert_exporter": "python",
   "pygments_lexer": "ipython3",
   "version": "3.13.5"
  }
 },
 "nbformat": 4,
 "nbformat_minor": 5
}
