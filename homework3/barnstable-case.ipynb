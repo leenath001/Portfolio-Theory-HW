{
 "cells": [
  {
   "cell_type": "markdown",
   "id": "b6f501af",
   "metadata": {},
   "source": [
    "## 1 - Summary Statistics"
   ]
  },
  {
   "cell_type": "code",
   "execution_count": 77,
   "id": "a8ee0ef5",
   "metadata": {},
   "outputs": [],
   "source": [
    "import pandas as pd \n",
    "import numpy as np\n",
    "\n",
    "# columns: date, SPY ret, TB1M ret\n",
    "data = pd.read_excel('barnstable_analysis_data.xlsx',sheet_name='data')\n",
    "data['date'] = pd.to_datetime(data['date'])\n",
    "data_65_99 = data[(data['date'] >= '1965-01-01') & (data['date'] <= '1999-12-31')]\n",
    "data_00 = data[(data['date'] >= '2000-01-01') & (data['date'] <= '2024-12-31')]\n",
    "data_26 = data[(data['date'] >= '1926-01-01') & (data['date'] <= '2024-12-31')]"
   ]
  },
  {
   "cell_type": "code",
   "execution_count": null,
   "id": "19e38322",
   "metadata": {},
   "outputs": [
    {
     "name": "stdout",
     "output_type": "stream",
     "text": [
      "               1965-1999 Mean  1965-1999 Vol  2000-2024 Mean  2000-2024 Vol  \\\n",
      "Real                   0.1294         0.1494          0.1294         0.1494   \n",
      "Risk Free              0.0615         0.0072          0.0615         0.0072   \n",
      "Excess                 0.0687         0.1502          0.0687         0.1502   \n",
      "Log Real               0.1176         0.1496          0.1176         0.1496   \n",
      "Log Risk Free          0.0613         0.0071          0.0613         0.0071   \n",
      "Log Excess             0.0571         0.1504          0.0571         0.1504   \n",
      "\n",
      "               1926-2024 Mean  1926-2024 Vol  \n",
      "Real                   0.1294         0.1494  \n",
      "Risk Free              0.0615         0.0072  \n",
      "Excess                 0.0687         0.1502  \n",
      "Log Real               0.1176         0.1496  \n",
      "Log Risk Free          0.0613         0.0071  \n",
      "Log Excess             0.0571         0.1504  \n"
     ]
    }
   ],
   "source": [
    "## Summary Statistics \n",
    "# r^m => market return, r^f => risk free rate, r~ => excess returns\n",
    "\n",
    "def ret_calc(df): \n",
    "    out = df.copy()\n",
    "\n",
    "    # df creation\n",
    "    out['r_m'] = out['SPX']\n",
    "    mm,vm = 12 * out['r_m'].mean(), (12)**.5 * out['r_m'].std()\n",
    "    out['r_f'] = out['TB1M']\n",
    "    mf,vf = 12 * out['r_f'].mean(), (12)**.5 * out['r_f'].std()\n",
    "    out['xs'] = out['r_m'] - out['r_f']\n",
    "    mxs,vxs = 12 *  out['xs'].mean(), (12)**.5 * out['xs'].std()\n",
    "    out['lr_m'] = np.log(1 + out['SPX'])\n",
    "    lmm,lvm = 12 * out['lr_m'].mean(), (12)**.5 *  out['lr_m'].std()\n",
    "    out['lr_f'] = np.log(1 + out['TB1M'])\n",
    "    lmf,lvf = 12 * out['lr_f'].mean(), (12)**.5 * out['lr_f'].std()   \n",
    "    out['lxs'] = out['lr_m'] - out['lr_f']\n",
    "    lmxs,lvxs = 12 * out['lxs'].mean(), (12)**.5 * out['lxs'].std()\n",
    "\n",
    "    stats = [mm,mf,mxs,lmm,lmf,lmxs,vm,vf,vxs,lvm,lvf,lvxs]\n",
    "    return stats,out\n",
    "\n",
    "# 1926-2024\n",
    "stats_26,frame_26 = ret_calc(data_26)\n",
    "\n",
    "# 2000-2024\n",
    "stats_00,frame_00 = ret_calc(data_00)\n",
    "\n",
    "# 1965-1999\n",
    "stats_65_99,frame_65_99 = ret_calc(data_65_99)\n",
    "\n",
    "# df creation\n",
    "results = pd.DataFrame()\n",
    "results['1965-1999 Mean'] = stats_65_99[0:6]\n",
    "results['1965-1999 Vol'] = stats_65_99[6:]\n",
    "results['2000-2024 Mean'] = stats_65_99[0:6]\n",
    "results['2000-2024 Vol'] = stats_65_99[6:]\n",
    "results['1926-2024 Mean'] = stats_65_99[0:6]\n",
    "results['1926-2024 Vol'] = stats_65_99[6:12]\n",
    "results.index = ['Real','Risk Free','Excess','Log Real','Log Risk Free', 'Log Excess']\n",
    "print(results.round(4))"
   ]
  },
  {
   "cell_type": "markdown",
   "id": "760e1090",
   "metadata": {},
   "source": [
    "## Probability of Underperformance"
   ]
  },
  {
   "cell_type": "code",
   "execution_count": null,
   "id": "c058de28",
   "metadata": {},
   "outputs": [],
   "source": []
  }
 ],
 "metadata": {
  "kernelspec": {
   "display_name": "base",
   "language": "python",
   "name": "python3"
  },
  "language_info": {
   "codemirror_mode": {
    "name": "ipython",
    "version": 3
   },
   "file_extension": ".py",
   "mimetype": "text/x-python",
   "name": "python",
   "nbconvert_exporter": "python",
   "pygments_lexer": "ipython3",
   "version": "3.13.5"
  }
 },
 "nbformat": 4,
 "nbformat_minor": 5
}
