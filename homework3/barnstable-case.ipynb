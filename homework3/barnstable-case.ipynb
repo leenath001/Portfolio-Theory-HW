{
 "cells": [
  {
   "cell_type": "markdown",
   "id": "b6f501af",
   "metadata": {},
   "source": [
    "# Barnstable & Long-Run Risk\n",
    "\n",
    "## 1 - Summary Statistics"
   ]
  },
  {
   "cell_type": "code",
   "execution_count": 49,
   "id": "a8ee0ef5",
   "metadata": {},
   "outputs": [],
   "source": [
    "import pandas as pd \n",
    "import numpy as np\n",
    "from scipy.stats import norm\n",
    "import matplotlib.pyplot as plt\n",
    "\n",
    "# columns: date, SPY ret, TB1M ret\n",
    "data = pd.read_excel('barnstable_analysis_data.xlsx',sheet_name='data')\n",
    "data['date'] = pd.to_datetime(data['date'])\n",
    "data_65_99 = data[(data['date'] >= '1965-01-01') & (data['date'] <= '1999-12-31')]\n",
    "data_00 = data[(data['date'] >= '2000-01-01') & (data['date'] <= '2024-12-31')]\n",
    "data_26 = data[(data['date'] >= '1926-01-01') & (data['date'] <= '2024-12-31')]\n",
    "data_26_56 = data_26[(data_26['date'] <= '1965-01-01')]\n",
    "data_65_24 = data[(data['date'] >= '1965-01-01')]"
   ]
  },
  {
   "cell_type": "code",
   "execution_count": 50,
   "id": "19e38322",
   "metadata": {},
   "outputs": [
    {
     "data": {
      "application/vnd.microsoft.datawrangler.viewer.v0+json": {
       "columns": [
        {
         "name": "index",
         "rawType": "object",
         "type": "string"
        },
        {
         "name": "1965-1999 Mean",
         "rawType": "float64",
         "type": "float"
        },
        {
         "name": "1965-1999 Vol",
         "rawType": "float64",
         "type": "float"
        },
        {
         "name": "2000-2024 Mean",
         "rawType": "float64",
         "type": "float"
        },
        {
         "name": "2000-2024 Vol",
         "rawType": "float64",
         "type": "float"
        },
        {
         "name": "1926-2024 Mean",
         "rawType": "float64",
         "type": "float"
        },
        {
         "name": "1926-2024 Vol",
         "rawType": "float64",
         "type": "float"
        }
       ],
       "ref": "1c2d3193-767f-4c6a-b9e4-49fac4d71ca6",
       "rows": [
        [
         "Real",
         "0.1294",
         "0.1494",
         "0.1294",
         "0.1494",
         "0.1294",
         "0.1494"
        ],
        [
         "Risk Free",
         "0.0615",
         "0.0072",
         "0.0615",
         "0.0072",
         "0.0615",
         "0.0072"
        ],
        [
         "Excess",
         "0.0687",
         "0.1502",
         "0.0687",
         "0.1502",
         "0.0687",
         "0.1502"
        ],
        [
         "Log Real",
         "0.1176",
         "0.1496",
         "0.1176",
         "0.1496",
         "0.1176",
         "0.1496"
        ],
        [
         "Log Risk Free",
         "0.0613",
         "0.0071",
         "0.0613",
         "0.0071",
         "0.0613",
         "0.0071"
        ],
        [
         "Log Excess",
         "0.0571",
         "0.1504",
         "0.0571",
         "0.1504",
         "0.0571",
         "0.1504"
        ]
       ],
       "shape": {
        "columns": 6,
        "rows": 6
       }
      },
      "text/html": [
       "<div>\n",
       "<style scoped>\n",
       "    .dataframe tbody tr th:only-of-type {\n",
       "        vertical-align: middle;\n",
       "    }\n",
       "\n",
       "    .dataframe tbody tr th {\n",
       "        vertical-align: top;\n",
       "    }\n",
       "\n",
       "    .dataframe thead th {\n",
       "        text-align: right;\n",
       "    }\n",
       "</style>\n",
       "<table border=\"1\" class=\"dataframe\">\n",
       "  <thead>\n",
       "    <tr style=\"text-align: right;\">\n",
       "      <th></th>\n",
       "      <th>1965-1999 Mean</th>\n",
       "      <th>1965-1999 Vol</th>\n",
       "      <th>2000-2024 Mean</th>\n",
       "      <th>2000-2024 Vol</th>\n",
       "      <th>1926-2024 Mean</th>\n",
       "      <th>1926-2024 Vol</th>\n",
       "    </tr>\n",
       "  </thead>\n",
       "  <tbody>\n",
       "    <tr>\n",
       "      <th>Real</th>\n",
       "      <td>0.1294</td>\n",
       "      <td>0.1494</td>\n",
       "      <td>0.1294</td>\n",
       "      <td>0.1494</td>\n",
       "      <td>0.1294</td>\n",
       "      <td>0.1494</td>\n",
       "    </tr>\n",
       "    <tr>\n",
       "      <th>Risk Free</th>\n",
       "      <td>0.0615</td>\n",
       "      <td>0.0072</td>\n",
       "      <td>0.0615</td>\n",
       "      <td>0.0072</td>\n",
       "      <td>0.0615</td>\n",
       "      <td>0.0072</td>\n",
       "    </tr>\n",
       "    <tr>\n",
       "      <th>Excess</th>\n",
       "      <td>0.0687</td>\n",
       "      <td>0.1502</td>\n",
       "      <td>0.0687</td>\n",
       "      <td>0.1502</td>\n",
       "      <td>0.0687</td>\n",
       "      <td>0.1502</td>\n",
       "    </tr>\n",
       "    <tr>\n",
       "      <th>Log Real</th>\n",
       "      <td>0.1176</td>\n",
       "      <td>0.1496</td>\n",
       "      <td>0.1176</td>\n",
       "      <td>0.1496</td>\n",
       "      <td>0.1176</td>\n",
       "      <td>0.1496</td>\n",
       "    </tr>\n",
       "    <tr>\n",
       "      <th>Log Risk Free</th>\n",
       "      <td>0.0613</td>\n",
       "      <td>0.0071</td>\n",
       "      <td>0.0613</td>\n",
       "      <td>0.0071</td>\n",
       "      <td>0.0613</td>\n",
       "      <td>0.0071</td>\n",
       "    </tr>\n",
       "    <tr>\n",
       "      <th>Log Excess</th>\n",
       "      <td>0.0571</td>\n",
       "      <td>0.1504</td>\n",
       "      <td>0.0571</td>\n",
       "      <td>0.1504</td>\n",
       "      <td>0.0571</td>\n",
       "      <td>0.1504</td>\n",
       "    </tr>\n",
       "  </tbody>\n",
       "</table>\n",
       "</div>"
      ],
      "text/plain": [
       "               1965-1999 Mean  1965-1999 Vol  2000-2024 Mean  2000-2024 Vol  \\\n",
       "Real                   0.1294         0.1494          0.1294         0.1494   \n",
       "Risk Free              0.0615         0.0072          0.0615         0.0072   \n",
       "Excess                 0.0687         0.1502          0.0687         0.1502   \n",
       "Log Real               0.1176         0.1496          0.1176         0.1496   \n",
       "Log Risk Free          0.0613         0.0071          0.0613         0.0071   \n",
       "Log Excess             0.0571         0.1504          0.0571         0.1504   \n",
       "\n",
       "               1926-2024 Mean  1926-2024 Vol  \n",
       "Real                   0.1294         0.1494  \n",
       "Risk Free              0.0615         0.0072  \n",
       "Excess                 0.0687         0.1502  \n",
       "Log Real               0.1176         0.1496  \n",
       "Log Risk Free          0.0613         0.0071  \n",
       "Log Excess             0.0571         0.1504  "
      ]
     },
     "metadata": {},
     "output_type": "display_data"
    }
   ],
   "source": [
    "## Summary Statistics \n",
    "# r^m => market return, r^f => risk free rate, r~ => excess returns\n",
    "\n",
    "def ret_calc(df): \n",
    "    out = df.copy()\n",
    "\n",
    "    # df creation\n",
    "    out['r_m'] = out['SPX']\n",
    "    mm,vm = 12 * out['r_m'].mean(), (12)**.5 * out['r_m'].std()\n",
    "    out['r_f'] = out['TB1M']\n",
    "    mf,vf = 12 * out['r_f'].mean(), (12)**.5 * out['r_f'].std()\n",
    "    out['xs'] = out['r_m'] - out['r_f']\n",
    "    mxs,vxs = 12 *  out['xs'].mean(), (12)**.5 * out['xs'].std()\n",
    "    out['lr_m'] = np.log(1 + out['SPX'])\n",
    "    lmm,lvm = 12 * out['lr_m'].mean(), (12)**.5 *  out['lr_m'].std()\n",
    "    out['lr_f'] = np.log(1 + out['TB1M'])\n",
    "    lmf,lvf = 12 * out['lr_f'].mean(), (12)**.5 * out['lr_f'].std()   \n",
    "    out['lxs'] = out['lr_m'] - out['lr_f']\n",
    "    lmxs,lvxs = 12 * out['lxs'].mean(), (12)**.5 * out['lxs'].std()\n",
    "\n",
    "    stats = [mm,mf,mxs,lmm,lmf,lmxs,vm,vf,vxs,lvm,lvf,lvxs]\n",
    "    return stats,out\n",
    "\n",
    "# 1926-2024\n",
    "stats_26,frame_26 = ret_calc(data_26)\n",
    "\n",
    "# 2000-2024\n",
    "stats_00,frame_00 = ret_calc(data_00)\n",
    "\n",
    "# 1965-1999\n",
    "stats_65_99,frame_65_99 = ret_calc(data_65_99)\n",
    "\n",
    "# df creation\n",
    "results = pd.DataFrame()\n",
    "results['1965-1999 Mean'] = stats_65_99[0:6]\n",
    "results['1965-1999 Vol'] = stats_65_99[6:]\n",
    "results['2000-2024 Mean'] = stats_65_99[0:6]\n",
    "results['2000-2024 Vol'] = stats_65_99[6:]\n",
    "results['1926-2024 Mean'] = stats_65_99[0:6]\n",
    "results['1926-2024 Vol'] = stats_65_99[6:12]\n",
    "results.index = ['Real','Risk Free','Excess','Log Real','Log Risk Free', 'Log Excess']\n",
    "display(results.round(4))"
   ]
  },
  {
   "cell_type": "markdown",
   "id": "760e1090",
   "metadata": {},
   "source": [
    "## 2 - Probability of Underperformance\n",
    "Want CDF(-sqrt(n) * sharpe)"
   ]
  },
  {
   "cell_type": "code",
   "execution_count": 51,
   "id": "c058de28",
   "metadata": {},
   "outputs": [
    {
     "data": {
      "text/plain": [
       "'Probability of Underperformce (65-99): 0.0124'"
      ]
     },
     "metadata": {},
     "output_type": "display_data"
    },
    {
     "data": {
      "text/plain": [
       "'Probability of Underperformce (15y): 0.0708'"
      ]
     },
     "metadata": {},
     "output_type": "display_data"
    },
    {
     "data": {
      "text/plain": [
       "'Probability of Underperformce (30y): 0.0188'"
      ]
     },
     "metadata": {},
     "output_type": "display_data"
    },
    {
     "data": {
      "image/png": "[encoded data removed]",
      "text/plain": [
       "<Figure size 640x480 with 1 Axes>"
      ]
     },
     "metadata": {},
     "output_type": "display_data"
    },
    {
     "data": {
      "application/vnd.microsoft.datawrangler.viewer.v0+json": {
       "columns": [
        {
         "name": "index",
         "rawType": "int64",
         "type": "integer"
        },
        {
         "name": "Underperformance Probability",
         "rawType": "float64",
         "type": "float"
        }
       ],
       "ref": "1535efb0-9b65-44b5-a3d2-256ca74853fa",
       "rows": [
        [
         "1",
         "0.3522"
        ],
        [
         "2",
         "0.2958"
        ],
        [
         "3",
         "0.2555"
        ],
        [
         "4",
         "0.224"
        ],
        [
         "5",
         "0.1981"
        ],
        [
         "6",
         "0.1763"
        ],
        [
         "7",
         "0.1577"
        ],
        [
         "8",
         "0.1416"
        ],
        [
         "9",
         "0.1275"
        ],
        [
         "10",
         "0.1151"
        ],
        [
         "11",
         "0.1041"
        ],
        [
         "12",
         "0.0944"
        ],
        [
         "13",
         "0.0857"
        ],
        [
         "14",
         "0.0779"
        ],
        [
         "15",
         "0.0708"
        ],
        [
         "16",
         "0.0645"
        ],
        [
         "17",
         "0.0589"
        ],
        [
         "18",
         "0.0537"
        ],
        [
         "19",
         "0.0491"
        ],
        [
         "20",
         "0.0449"
        ],
        [
         "21",
         "0.041"
        ],
        [
         "22",
         "0.0376"
        ],
        [
         "23",
         "0.0344"
        ],
        [
         "24",
         "0.0315"
        ],
        [
         "25",
         "0.0289"
        ],
        [
         "26",
         "0.0265"
        ],
        [
         "27",
         "0.0243"
        ],
        [
         "28",
         "0.0223"
        ],
        [
         "29",
         "0.0205"
        ],
        [
         "30",
         "0.0188"
        ]
       ],
       "shape": {
        "columns": 1,
        "rows": 30
       }
      },
      "text/html": [
       "<div>\n",
       "<style scoped>\n",
       "    .dataframe tbody tr th:only-of-type {\n",
       "        vertical-align: middle;\n",
       "    }\n",
       "\n",
       "    .dataframe tbody tr th {\n",
       "        vertical-align: top;\n",
       "    }\n",
       "\n",
       "    .dataframe thead th {\n",
       "        text-align: right;\n",
       "    }\n",
       "</style>\n",
       "<table border=\"1\" class=\"dataframe\">\n",
       "  <thead>\n",
       "    <tr style=\"text-align: right;\">\n",
       "      <th></th>\n",
       "      <th>Underperformance Probability</th>\n",
       "    </tr>\n",
       "  </thead>\n",
       "  <tbody>\n",
       "    <tr>\n",
       "      <th>1</th>\n",
       "      <td>0.3522</td>\n",
       "    </tr>\n",
       "    <tr>\n",
       "      <th>2</th>\n",
       "      <td>0.2958</td>\n",
       "    </tr>\n",
       "    <tr>\n",
       "      <th>3</th>\n",
       "      <td>0.2555</td>\n",
       "    </tr>\n",
       "    <tr>\n",
       "      <th>4</th>\n",
       "      <td>0.2240</td>\n",
       "    </tr>\n",
       "    <tr>\n",
       "      <th>5</th>\n",
       "      <td>0.1981</td>\n",
       "    </tr>\n",
       "    <tr>\n",
       "      <th>6</th>\n",
       "      <td>0.1763</td>\n",
       "    </tr>\n",
       "    <tr>\n",
       "      <th>7</th>\n",
       "      <td>0.1577</td>\n",
       "    </tr>\n",
       "    <tr>\n",
       "      <th>8</th>\n",
       "      <td>0.1416</td>\n",
       "    </tr>\n",
       "    <tr>\n",
       "      <th>9</th>\n",
       "      <td>0.1275</td>\n",
       "    </tr>\n",
       "    <tr>\n",
       "      <th>10</th>\n",
       "      <td>0.1151</td>\n",
       "    </tr>\n",
       "    <tr>\n",
       "      <th>11</th>\n",
       "      <td>0.1041</td>\n",
       "    </tr>\n",
       "    <tr>\n",
       "      <th>12</th>\n",
       "      <td>0.0944</td>\n",
       "    </tr>\n",
       "    <tr>\n",
       "      <th>13</th>\n",
       "      <td>0.0857</td>\n",
       "    </tr>\n",
       "    <tr>\n",
       "      <th>14</th>\n",
       "      <td>0.0779</td>\n",
       "    </tr>\n",
       "    <tr>\n",
       "      <th>15</th>\n",
       "      <td>0.0708</td>\n",
       "    </tr>\n",
       "    <tr>\n",
       "      <th>16</th>\n",
       "      <td>0.0645</td>\n",
       "    </tr>\n",
       "    <tr>\n",
       "      <th>17</th>\n",
       "      <td>0.0589</td>\n",
       "    </tr>\n",
       "    <tr>\n",
       "      <th>18</th>\n",
       "      <td>0.0537</td>\n",
       "    </tr>\n",
       "    <tr>\n",
       "      <th>19</th>\n",
       "      <td>0.0491</td>\n",
       "    </tr>\n",
       "    <tr>\n",
       "      <th>20</th>\n",
       "      <td>0.0449</td>\n",
       "    </tr>\n",
       "    <tr>\n",
       "      <th>21</th>\n",
       "      <td>0.0410</td>\n",
       "    </tr>\n",
       "    <tr>\n",
       "      <th>22</th>\n",
       "      <td>0.0376</td>\n",
       "    </tr>\n",
       "    <tr>\n",
       "      <th>23</th>\n",
       "      <td>0.0344</td>\n",
       "    </tr>\n",
       "    <tr>\n",
       "      <th>24</th>\n",
       "      <td>0.0315</td>\n",
       "    </tr>\n",
       "    <tr>\n",
       "      <th>25</th>\n",
       "      <td>0.0289</td>\n",
       "    </tr>\n",
       "    <tr>\n",
       "      <th>26</th>\n",
       "      <td>0.0265</td>\n",
       "    </tr>\n",
       "    <tr>\n",
       "      <th>27</th>\n",
       "      <td>0.0243</td>\n",
       "    </tr>\n",
       "    <tr>\n",
       "      <th>28</th>\n",
       "      <td>0.0223</td>\n",
       "    </tr>\n",
       "    <tr>\n",
       "      <th>29</th>\n",
       "      <td>0.0205</td>\n",
       "    </tr>\n",
       "    <tr>\n",
       "      <th>30</th>\n",
       "      <td>0.0188</td>\n",
       "    </tr>\n",
       "  </tbody>\n",
       "</table>\n",
       "</div>"
      ],
      "text/plain": [
       "    Underperformance Probability\n",
       "1                         0.3522\n",
       "2                         0.2958\n",
       "3                         0.2555\n",
       "4                         0.2240\n",
       "5                         0.1981\n",
       "6                         0.1763\n",
       "7                         0.1577\n",
       "8                         0.1416\n",
       "9                         0.1275\n",
       "10                        0.1151\n",
       "11                        0.1041\n",
       "12                        0.0944\n",
       "13                        0.0857\n",
       "14                        0.0779\n",
       "15                        0.0708\n",
       "16                        0.0645\n",
       "17                        0.0589\n",
       "18                        0.0537\n",
       "19                        0.0491\n",
       "20                        0.0449\n",
       "21                        0.0410\n",
       "22                        0.0376\n",
       "23                        0.0344\n",
       "24                        0.0315\n",
       "25                        0.0289\n",
       "26                        0.0265\n",
       "27                        0.0243\n",
       "28                        0.0223\n",
       "29                        0.0205\n",
       "30                        0.0188"
      ]
     },
     "metadata": {},
     "output_type": "display_data"
    }
   ],
   "source": [
    "## 2.1 P[Underperformance from 65-99]\n",
    "\n",
    "def calc_underperf_p(sharpe,time):\n",
    "    return norm.cdf(-np.sqrt(time) * sharpe)\n",
    "\n",
    "# 1965-1999 Subsample \n",
    "sharpe = results.iloc[5,0]/results.iloc[5,1]\n",
    "p1 = calc_underperf_p(sharpe,35)\n",
    "display('Probability of Underperformce (65-99): {}'.format(p1.round(4)))\n",
    "\n",
    "# H = 15\n",
    "p2 = calc_underperf_p(sharpe,15)\n",
    "display('Probability of Underperformce (15y): {}'.format(p2.round(4)))\n",
    "\n",
    "# H = 30\n",
    "p3 = calc_underperf_p(sharpe,30)\n",
    "display('Probability of Underperformce (30y): {}'.format(p3.round(4)))\n",
    "\n",
    "# Plot probability wrt investment horizion h \n",
    "probs = []\n",
    "\n",
    "for i in range(1,31):\n",
    "    p = calc_underperf_p(sharpe,i)\n",
    "    probs.append(p)\n",
    "\n",
    "plt.figure(1)\n",
    "plt.plot([i for i in range(1,31)],probs, label = 'Probabilities')\n",
    "plt.scatter([i for i in range(1,31)],probs)\n",
    "plt.legend()\n",
    "plt.xlabel('h in (0,30]')\n",
    "plt.ylabel('Odds of Underperformance')\n",
    "plt.title('Probabilities as a function of horizion')\n",
    "plt.show()\n",
    "\n",
    "results = pd.DataFrame()\n",
    "results['Underperformance Probability'] = probs\n",
    "results.index = [i for i in range(1,31)]\n",
    "display(results.round(4))\n"
   ]
  },
  {
   "cell_type": "markdown",
   "id": "a73cc3f3",
   "metadata": {},
   "source": [
    "## 3 - Full Sample Analysis\n",
    "Use sample 1965 - 2024 to reconsider and plot probability of 30y horizion"
   ]
  },
  {
   "cell_type": "code",
   "execution_count": 52,
   "id": "4deb04bd",
   "metadata": {},
   "outputs": [
    {
     "data": {
      "image/png": "[encoded data removed]",
      "text/plain": [
       "<Figure size 640x480 with 1 Axes>"
      ]
     },
     "metadata": {},
     "output_type": "display_data"
    },
    {
     "data": {
      "application/vnd.microsoft.datawrangler.viewer.v0+json": {
       "columns": [
        {
         "name": "index",
         "rawType": "int64",
         "type": "integer"
        },
        {
         "name": "Underperformance Probability",
         "rawType": "float64",
         "type": "float"
        }
       ],
       "ref": "68f503e5-d2d7-435d-afdf-1d9bbb03ddc6",
       "rows": [
        [
         "1",
         "0.3524"
        ],
        [
         "2",
         "0.2961"
        ],
        [
         "3",
         "0.2559"
        ],
        [
         "4",
         "0.2243"
        ],
        [
         "5",
         "0.1985"
        ],
        [
         "6",
         "0.1767"
        ],
        [
         "7",
         "0.1581"
        ],
        [
         "8",
         "0.142"
        ],
        [
         "9",
         "0.1279"
        ],
        [
         "10",
         "0.1155"
        ],
        [
         "11",
         "0.1045"
        ],
        [
         "12",
         "0.0947"
        ],
        [
         "13",
         "0.086"
        ],
        [
         "14",
         "0.0782"
        ],
        [
         "15",
         "0.0712"
        ],
        [
         "16",
         "0.0649"
        ],
        [
         "17",
         "0.0592"
        ],
        [
         "18",
         "0.054"
        ],
        [
         "19",
         "0.0494"
        ],
        [
         "20",
         "0.0451"
        ],
        [
         "21",
         "0.0413"
        ],
        [
         "22",
         "0.0378"
        ],
        [
         "23",
         "0.0346"
        ],
        [
         "24",
         "0.0317"
        ],
        [
         "25",
         "0.0291"
        ],
        [
         "26",
         "0.0267"
        ],
        [
         "27",
         "0.0245"
        ],
        [
         "28",
         "0.0225"
        ],
        [
         "29",
         "0.0207"
        ],
        [
         "30",
         "0.019"
        ]
       ],
       "shape": {
        "columns": 1,
        "rows": 30
       }
      },
      "text/html": [
       "<div>\n",
       "<style scoped>\n",
       "    .dataframe tbody tr th:only-of-type {\n",
       "        vertical-align: middle;\n",
       "    }\n",
       "\n",
       "    .dataframe tbody tr th {\n",
       "        vertical-align: top;\n",
       "    }\n",
       "\n",
       "    .dataframe thead th {\n",
       "        text-align: right;\n",
       "    }\n",
       "</style>\n",
       "<table border=\"1\" class=\"dataframe\">\n",
       "  <thead>\n",
       "    <tr style=\"text-align: right;\">\n",
       "      <th></th>\n",
       "      <th>Underperformance Probability</th>\n",
       "    </tr>\n",
       "  </thead>\n",
       "  <tbody>\n",
       "    <tr>\n",
       "      <th>1</th>\n",
       "      <td>0.3524</td>\n",
       "    </tr>\n",
       "    <tr>\n",
       "      <th>2</th>\n",
       "      <td>0.2961</td>\n",
       "    </tr>\n",
       "    <tr>\n",
       "      <th>3</th>\n",
       "      <td>0.2559</td>\n",
       "    </tr>\n",
       "    <tr>\n",
       "      <th>4</th>\n",
       "      <td>0.2243</td>\n",
       "    </tr>\n",
       "    <tr>\n",
       "      <th>5</th>\n",
       "      <td>0.1985</td>\n",
       "    </tr>\n",
       "    <tr>\n",
       "      <th>6</th>\n",
       "      <td>0.1767</td>\n",
       "    </tr>\n",
       "    <tr>\n",
       "      <th>7</th>\n",
       "      <td>0.1581</td>\n",
       "    </tr>\n",
       "    <tr>\n",
       "      <th>8</th>\n",
       "      <td>0.1420</td>\n",
       "    </tr>\n",
       "    <tr>\n",
       "      <th>9</th>\n",
       "      <td>0.1279</td>\n",
       "    </tr>\n",
       "    <tr>\n",
       "      <th>10</th>\n",
       "      <td>0.1155</td>\n",
       "    </tr>\n",
       "    <tr>\n",
       "      <th>11</th>\n",
       "      <td>0.1045</td>\n",
       "    </tr>\n",
       "    <tr>\n",
       "      <th>12</th>\n",
       "      <td>0.0947</td>\n",
       "    </tr>\n",
       "    <tr>\n",
       "      <th>13</th>\n",
       "      <td>0.0860</td>\n",
       "    </tr>\n",
       "    <tr>\n",
       "      <th>14</th>\n",
       "      <td>0.0782</td>\n",
       "    </tr>\n",
       "    <tr>\n",
       "      <th>15</th>\n",
       "      <td>0.0712</td>\n",
       "    </tr>\n",
       "    <tr>\n",
       "      <th>16</th>\n",
       "      <td>0.0649</td>\n",
       "    </tr>\n",
       "    <tr>\n",
       "      <th>17</th>\n",
       "      <td>0.0592</td>\n",
       "    </tr>\n",
       "    <tr>\n",
       "      <th>18</th>\n",
       "      <td>0.0540</td>\n",
       "    </tr>\n",
       "    <tr>\n",
       "      <th>19</th>\n",
       "      <td>0.0494</td>\n",
       "    </tr>\n",
       "    <tr>\n",
       "      <th>20</th>\n",
       "      <td>0.0451</td>\n",
       "    </tr>\n",
       "    <tr>\n",
       "      <th>21</th>\n",
       "      <td>0.0413</td>\n",
       "    </tr>\n",
       "    <tr>\n",
       "      <th>22</th>\n",
       "      <td>0.0378</td>\n",
       "    </tr>\n",
       "    <tr>\n",
       "      <th>23</th>\n",
       "      <td>0.0346</td>\n",
       "    </tr>\n",
       "    <tr>\n",
       "      <th>24</th>\n",
       "      <td>0.0317</td>\n",
       "    </tr>\n",
       "    <tr>\n",
       "      <th>25</th>\n",
       "      <td>0.0291</td>\n",
       "    </tr>\n",
       "    <tr>\n",
       "      <th>26</th>\n",
       "      <td>0.0267</td>\n",
       "    </tr>\n",
       "    <tr>\n",
       "      <th>27</th>\n",
       "      <td>0.0245</td>\n",
       "    </tr>\n",
       "    <tr>\n",
       "      <th>28</th>\n",
       "      <td>0.0225</td>\n",
       "    </tr>\n",
       "    <tr>\n",
       "      <th>29</th>\n",
       "      <td>0.0207</td>\n",
       "    </tr>\n",
       "    <tr>\n",
       "      <th>30</th>\n",
       "      <td>0.0190</td>\n",
       "    </tr>\n",
       "  </tbody>\n",
       "</table>\n",
       "</div>"
      ],
      "text/plain": [
       "    Underperformance Probability\n",
       "1                         0.3524\n",
       "2                         0.2961\n",
       "3                         0.2559\n",
       "4                         0.2243\n",
       "5                         0.1985\n",
       "6                         0.1767\n",
       "7                         0.1581\n",
       "8                         0.1420\n",
       "9                         0.1279\n",
       "10                        0.1155\n",
       "11                        0.1045\n",
       "12                        0.0947\n",
       "13                        0.0860\n",
       "14                        0.0782\n",
       "15                        0.0712\n",
       "16                        0.0649\n",
       "17                        0.0592\n",
       "18                        0.0540\n",
       "19                        0.0494\n",
       "20                        0.0451\n",
       "21                        0.0413\n",
       "22                        0.0378\n",
       "23                        0.0346\n",
       "24                        0.0317\n",
       "25                        0.0291\n",
       "26                        0.0267\n",
       "27                        0.0245\n",
       "28                        0.0225\n",
       "29                        0.0207\n",
       "30                        0.0190"
      ]
     },
     "metadata": {},
     "output_type": "display_data"
    }
   ],
   "source": [
    "stats, frame = ret_calc(data_65_24)\n",
    "sharpe_2 = stats[5]/stats[11]\n",
    "\n",
    "# Solving for probabilities & plotting\n",
    "probs2 = []\n",
    "\n",
    "for i in range(1,31):\n",
    "    p = calc_underperf_p(sharpe_2,i)\n",
    "    probs2.append(p)\n",
    "\n",
    "plt.figure(2)\n",
    "plt.plot([i for i in range(1,31)],probs2, label = 'Probabilities')\n",
    "plt.scatter([i for i in range(1,31)],probs2)\n",
    "plt.legend()\n",
    "plt.xlabel('h in (0,30]')\n",
    "plt.ylabel('Odds of Underperformance')\n",
    "plt.title('Probabilities as a function of horizion')\n",
    "plt.show()\n",
    "\n",
    "results = pd.DataFrame()\n",
    "results['Underperformance Probability'] = probs2\n",
    "results.index = [i for i in range(1,31)]\n",
    "display(results.round(4))"
   ]
  },
  {
   "cell_type": "markdown",
   "id": "d01e99bc",
   "metadata": {},
   "source": [
    "## In-Sample Estimate of Out-of-Sample Likelihood\n",
    "Probability (based on 1999 estimate of mu) that the h-year market return would be smaller than realized in 2000-2024?"
   ]
  },
  {
   "cell_type": "code",
   "execution_count": 54,
   "id": "1d3dc837",
   "metadata": {},
   "outputs": [
    {
     "name": "stdout",
     "output_type": "stream",
     "text": [
      "0.593981799673204\n"
     ]
    },
    {
     "data": {
      "image/png": "[encoded data removed]",
      "text/plain": [
       "<Figure size 640x480 with 1 Axes>"
      ]
     },
     "metadata": {},
     "output_type": "display_data"
    }
   ],
   "source": [
    "# CHECK AGAINST SOL\n",
    "stats, frame = ret_calc(data_26)\n",
    "stats2, frame2 = ret_calc(data_65_24)\n",
    "stats_is, frame_is = ret_calc(data_26_56)\n",
    "\n",
    "r_xs_oos = stats2[5]\n",
    "r_xs_is = stats[5]\n",
    "v_xs_is = stats[11]\n",
    "zsc = (r_xs_oos - r_xs_is)/v_xs_is\n",
    "probs3 = []\n",
    "print(calc_underperf_p(zsc,30))\n",
    "for i in range(1,31):\n",
    "    p = calc_underperf_p(zsc,i)\n",
    "    probs3.append(p)\n",
    "\n",
    "plt.figure(3)\n",
    "plt.plot([i for i in range(1,31)],probs3, label = 'Probabilities')\n",
    "plt.scatter([i for i in range(1,31)],probs3)\n",
    "plt.legend()\n",
    "plt.xlabel('h in (0,30]')\n",
    "plt.ylabel('Odds of Underperformance')\n",
    "plt.title('Probabilities as a function of horizion')\n",
    "plt.show()"
   ]
  }
 ],
 "metadata": {
  "kernelspec": {
   "display_name": "base",
   "language": "python",
   "name": "python3"
  },
  "language_info": {
   "codemirror_mode": {
    "name": "ipython",
    "version": 3
   },
   "file_extension": ".py",
   "mimetype": "text/x-python",
   "name": "python",
   "nbconvert_exporter": "python",
   "pygments_lexer": "ipython3",
   "version": "3.13.5"
  }
 },
 "nbformat": 4,
 "nbformat_minor": 5
}
